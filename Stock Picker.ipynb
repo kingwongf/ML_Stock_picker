{
 "cells": [
  {
   "cell_type": "markdown",
   "metadata": {},
   "source": [
    "# Stock Picking \n",
    "## Group 1 ML Part II Coursework\n",
    "\n",
    "\n",
    "Stock picking has been a long practice in the market where mutual funds have clamied they can beat the market. The claim has been debated since the Princeton professor Burton Malkiel said expert's stock picks peform as well as blind monkeys throwing darts. Some have even demonstrated the monkey even did a better job than the experts.\n",
    "\n",
    "https://www.forbes.com/sites/rickferri/2012/12/20/any-monkey-can-beat-the-market/#24c34e92630a"
   ]
  },
  {
   "cell_type": "markdown",
   "metadata": {},
   "source": [
    "Here we try to use Machine Learning classifier to beat the monkey's performance. Since it is illegal to own one, we simulate the monkey by a random picking algorithm. "
   ]
  },
  {
   "cell_type": "code",
   "execution_count": 2,
   "metadata": {},
   "outputs": [],
   "source": [
    "import pandas as pd\n",
    "import math\n",
    "import numpy as np\n",
    "from sklearn.preprocessing import normalize\n",
    "from sklearn import svm\n",
    "from sklearn import linear_model\n",
    "from sklearn.metrics import mean_squared_error\n",
    "from sklearn.linear_model import Lasso\n",
    "from sklearn.linear_model import Ridge\n",
    "import matplotlib.pyplot as plt\n",
    "from sklearn.metrics import confusion_matrix\n",
    "from mpl_toolkits.mplot3d import Axes3D\n",
    "import matplotlib as mpl\n",
    "from sklearn.model_selection import train_test_split\n",
    "from sklearn import preprocessing"
   ]
  },
  {
   "cell_type": "markdown",
   "metadata": {},
   "source": [
    "## Data Collection and Structuring\n",
    "First we structure the data. We collected stocks listed on NYSE and NASDAQ fundamental financial ratios of Q4 2017 as features (X) as well as price information of Q4 2017-18 from Bloomberg. We drop the Nan when Bloomberg has no available data. Bloomberg is the lead market participant in financial data provider. If they don't have the information, it is doubtful that other data vendor (FACTSET, Reuters) has it. We split the data by the built-in function that exists in sklearn. The reason behind it is that the function probably handles splitting the data a lot better than we would have and it is better practice to not re-write and use already existing code."
   ]
  },
  {
   "cell_type": "code",
   "execution_count": 3,
   "metadata": {},
   "outputs": [
    {
     "data": {
      "text/html": [
       "<div>\n",
       "<style scoped>\n",
       "    .dataframe tbody tr th:only-of-type {\n",
       "        vertical-align: middle;\n",
       "    }\n",
       "\n",
       "    .dataframe tbody tr th {\n",
       "        vertical-align: top;\n",
       "    }\n",
       "\n",
       "    .dataframe thead th {\n",
       "        text-align: right;\n",
       "    }\n",
       "</style>\n",
       "<table border=\"1\" class=\"dataframe\">\n",
       "  <thead>\n",
       "    <tr style=\"text-align: right;\">\n",
       "      <th></th>\n",
       "      <th>Symbol</th>\n",
       "      <th>cash_ratio</th>\n",
       "      <th>return_to_equity</th>\n",
       "      <th>price_to_book</th>\n",
       "      <th>pe</th>\n",
       "      <th>short_interest_ratio</th>\n",
       "      <th>debt_to_equity</th>\n",
       "      <th>eps</th>\n",
       "      <th>last_price</th>\n",
       "      <th>previous_year_price</th>\n",
       "    </tr>\n",
       "  </thead>\n",
       "  <tbody>\n",
       "    <tr>\n",
       "      <th>0</th>\n",
       "      <td>MMM</td>\n",
       "      <td>0.4571</td>\n",
       "      <td>37.66730402</td>\n",
       "      <td>10.519554</td>\n",
       "      <td>25.3366</td>\n",
       "      <td>2.959</td>\n",
       "      <td>142.6619</td>\n",
       "      <td>1.01</td>\n",
       "      <td>199.15</td>\n",
       "      <td>236.58</td>\n",
       "    </tr>\n",
       "    <tr>\n",
       "      <th>1</th>\n",
       "      <td>WUBA</td>\n",
       "      <td>0.9377</td>\n",
       "      <td>7.842562916</td>\n",
       "      <td>3.466236</td>\n",
       "      <td>247.7696</td>\n",
       "      <td>1.584</td>\n",
       "      <td>4.1318</td>\n",
       "      <td>1.18</td>\n",
       "      <td>69.68</td>\n",
       "      <td>68.93</td>\n",
       "    </tr>\n",
       "    <tr>\n",
       "      <th>2</th>\n",
       "      <td>EGHT</td>\n",
       "      <td>4.0372</td>\n",
       "      <td>-41.19122937</td>\n",
       "      <td>7.989302</td>\n",
       "      <td>31.7871</td>\n",
       "      <td>2.115</td>\n",
       "      <td>0.0000</td>\n",
       "      <td>-0.14</td>\n",
       "      <td>19.775</td>\n",
       "      <td>14.10</td>\n",
       "    </tr>\n",
       "    <tr>\n",
       "      <th>3</th>\n",
       "      <td>AHC</td>\n",
       "      <td>1.6529</td>\n",
       "      <td>12.38072109</td>\n",
       "      <td>1.109514</td>\n",
       "      <td>971.1333</td>\n",
       "      <td>1.213</td>\n",
       "      <td>0.0000</td>\n",
       "      <td>-0.19</td>\n",
       "      <td>4.75</td>\n",
       "      <td>4.85</td>\n",
       "    </tr>\n",
       "    <tr>\n",
       "      <th>4</th>\n",
       "      <td>AAC</td>\n",
       "      <td>0.3138</td>\n",
       "      <td>-12.45305726</td>\n",
       "      <td>1.540616</td>\n",
       "      <td>12.3618</td>\n",
       "      <td>14.426</td>\n",
       "      <td>193.2304</td>\n",
       "      <td>-0.01</td>\n",
       "      <td>9.86</td>\n",
       "      <td>9.11</td>\n",
       "    </tr>\n",
       "  </tbody>\n",
       "</table>\n",
       "</div>"
      ],
      "text/plain": [
       "  Symbol  cash_ratio return_to_equity  price_to_book        pe  \\\n",
       "0    MMM      0.4571      37.66730402      10.519554   25.3366   \n",
       "1   WUBA      0.9377      7.842562916       3.466236  247.7696   \n",
       "2   EGHT      4.0372     -41.19122937       7.989302   31.7871   \n",
       "3    AHC      1.6529      12.38072109       1.109514  971.1333   \n",
       "4    AAC      0.3138     -12.45305726       1.540616   12.3618   \n",
       "\n",
       "   short_interest_ratio  debt_to_equity   eps last_price  previous_year_price  \n",
       "0                 2.959        142.6619  1.01     199.15               236.58  \n",
       "1                 1.584          4.1318  1.18      69.68                68.93  \n",
       "2                 2.115          0.0000 -0.14     19.775                14.10  \n",
       "3                 1.213          0.0000 -0.19       4.75                 4.85  \n",
       "4                14.426        193.2304 -0.01       9.86                 9.11  "
      ]
     },
     "execution_count": 3,
     "metadata": {},
     "output_type": "execute_result"
    }
   ],
   "source": [
    "df = pd.read_csv(\"./resources/2018.csv\")\n",
    "df = df.dropna()\n",
    "df = df.reset_index(drop=True)\n",
    "df.head()"
   ]
  },
  {
   "cell_type": "markdown",
   "metadata": {},
   "source": [
    "Picking the financial ratios was part of the feature engineering that we had to do for this project. As one might know, there are a number of financial ratios that can describe the fundamental state of company. They usually contain information about the health/growth/profitability of the company, which are all important factors for the company and if an investor feels it is good enough to invest in.\n",
    "\n",
    "We chose the ratios based on the 2 following factors:\n",
    "    1) Popularity (among investors)\n",
    "    2) Availability from our data source (Bloomberg)\n",
    "    \n",
    "As far as 1) goes, the ratios we picked were favourites among fundamental investors. They have been known to be used for fundamental analysis for many years and seem to describe a company and it's future performance well. There are a number of other factors/ratios that we wanted to use, to further the analysis, however our data vendor either kept running out of data, or there was not enought coverage of those ratios for the companies we selected."
   ]
  },
  {
   "cell_type": "markdown",
   "metadata": {},
   "source": [
    "### Label Outperforming and Underperfoming the market \n",
    "The market return is defined as the 1 year log return of the market. Stock is labelled \"outperform\" or \"1\" when its 1 year log return is bigger than its respective market return(NYSE or NASDAQ). Stock is labelled \"underperform\" or \"0\" vice versa."
   ]
  },
  {
   "cell_type": "code",
   "execution_count": 4,
   "metadata": {},
   "outputs": [
    {
     "data": {
      "text/html": [
       "<div>\n",
       "<style scoped>\n",
       "    .dataframe tbody tr th:only-of-type {\n",
       "        vertical-align: middle;\n",
       "    }\n",
       "\n",
       "    .dataframe tbody tr th {\n",
       "        vertical-align: top;\n",
       "    }\n",
       "\n",
       "    .dataframe thead th {\n",
       "        text-align: right;\n",
       "    }\n",
       "</style>\n",
       "<table border=\"1\" class=\"dataframe\">\n",
       "  <thead>\n",
       "    <tr style=\"text-align: right;\">\n",
       "      <th></th>\n",
       "      <th>Symbol</th>\n",
       "      <th>cash_ratio</th>\n",
       "      <th>return_to_equity</th>\n",
       "      <th>price_to_book</th>\n",
       "      <th>pe</th>\n",
       "      <th>short_interest_ratio</th>\n",
       "      <th>debt_to_equity</th>\n",
       "      <th>eps</th>\n",
       "      <th>last_price</th>\n",
       "      <th>previous_year_price</th>\n",
       "      <th>performance</th>\n",
       "      <th>status</th>\n",
       "    </tr>\n",
       "  </thead>\n",
       "  <tbody>\n",
       "    <tr>\n",
       "      <th>0</th>\n",
       "      <td>MMM</td>\n",
       "      <td>0.4571</td>\n",
       "      <td>37.66730402</td>\n",
       "      <td>10.519554</td>\n",
       "      <td>25.3366</td>\n",
       "      <td>2.959</td>\n",
       "      <td>142.6619</td>\n",
       "      <td>1.01</td>\n",
       "      <td>199.150</td>\n",
       "      <td>236.58</td>\n",
       "      <td>-0.172228</td>\n",
       "      <td>0</td>\n",
       "    </tr>\n",
       "    <tr>\n",
       "      <th>1</th>\n",
       "      <td>WUBA</td>\n",
       "      <td>0.9377</td>\n",
       "      <td>7.842562916</td>\n",
       "      <td>3.466236</td>\n",
       "      <td>247.7696</td>\n",
       "      <td>1.584</td>\n",
       "      <td>4.1318</td>\n",
       "      <td>1.18</td>\n",
       "      <td>69.680</td>\n",
       "      <td>68.93</td>\n",
       "      <td>0.010822</td>\n",
       "      <td>0</td>\n",
       "    </tr>\n",
       "    <tr>\n",
       "      <th>2</th>\n",
       "      <td>EGHT</td>\n",
       "      <td>4.0372</td>\n",
       "      <td>-41.19122937</td>\n",
       "      <td>7.989302</td>\n",
       "      <td>31.7871</td>\n",
       "      <td>2.115</td>\n",
       "      <td>0.0000</td>\n",
       "      <td>-0.14</td>\n",
       "      <td>19.775</td>\n",
       "      <td>14.10</td>\n",
       "      <td>0.338244</td>\n",
       "      <td>1</td>\n",
       "    </tr>\n",
       "    <tr>\n",
       "      <th>3</th>\n",
       "      <td>AHC</td>\n",
       "      <td>1.6529</td>\n",
       "      <td>12.38072109</td>\n",
       "      <td>1.109514</td>\n",
       "      <td>971.1333</td>\n",
       "      <td>1.213</td>\n",
       "      <td>0.0000</td>\n",
       "      <td>-0.19</td>\n",
       "      <td>4.750</td>\n",
       "      <td>4.85</td>\n",
       "      <td>-0.020834</td>\n",
       "      <td>0</td>\n",
       "    </tr>\n",
       "    <tr>\n",
       "      <th>4</th>\n",
       "      <td>AAC</td>\n",
       "      <td>0.3138</td>\n",
       "      <td>-12.45305726</td>\n",
       "      <td>1.540616</td>\n",
       "      <td>12.3618</td>\n",
       "      <td>14.426</td>\n",
       "      <td>193.2304</td>\n",
       "      <td>-0.01</td>\n",
       "      <td>9.860</td>\n",
       "      <td>9.11</td>\n",
       "      <td>0.079113</td>\n",
       "      <td>1</td>\n",
       "    </tr>\n",
       "  </tbody>\n",
       "</table>\n",
       "</div>"
      ],
      "text/plain": [
       "  Symbol  cash_ratio return_to_equity  price_to_book        pe  \\\n",
       "0    MMM      0.4571      37.66730402      10.519554   25.3366   \n",
       "1   WUBA      0.9377      7.842562916       3.466236  247.7696   \n",
       "2   EGHT      4.0372     -41.19122937       7.989302   31.7871   \n",
       "3    AHC      1.6529      12.38072109       1.109514  971.1333   \n",
       "4    AAC      0.3138     -12.45305726       1.540616   12.3618   \n",
       "\n",
       "   short_interest_ratio  debt_to_equity   eps  last_price  \\\n",
       "0                 2.959        142.6619  1.01     199.150   \n",
       "1                 1.584          4.1318  1.18      69.680   \n",
       "2                 2.115          0.0000 -0.14      19.775   \n",
       "3                 1.213          0.0000 -0.19       4.750   \n",
       "4                14.426        193.2304 -0.01       9.860   \n",
       "\n",
       "   previous_year_price  performance  status  \n",
       "0               236.58    -0.172228       0  \n",
       "1                68.93     0.010822       0  \n",
       "2                14.10     0.338244       1  \n",
       "3                 4.85    -0.020834       0  \n",
       "4                 9.11     0.079113       1  "
      ]
     },
     "execution_count": 4,
     "metadata": {},
     "output_type": "execute_result"
    }
   ],
   "source": [
    "nyse_previous_close = 12412.07\n",
    "nyse_one_year_close = 11812.20\n",
    "\n",
    "nasdaq_previous_close = 7712.9502\n",
    "nasdaq_one_year_close = 6233.9502\n",
    "\n",
    "nasdaq_begin_index = 977\n",
    "\n",
    "nyse_performance = math.log(nyse_previous_close/nyse_one_year_close)\n",
    "nasdaq_performance = math.log(nasdaq_previous_close/nasdaq_one_year_close)\n",
    "\n",
    "df = df.infer_objects()\n",
    "df['last_price'] = df['last_price'].astype('float')\n",
    "\n",
    "df['performance'] = np.log(df['last_price'] /df['previous_year_price'])\n",
    "df['status'] = 0\n",
    "nyse_performance = (df.loc[range(0,nasdaq_begin_index),'performance']>nyse_performance).astype('int')\n",
    "nasdaq_performance = (df.loc[range(nasdaq_begin_index,len(df)),'performance']>nasdaq_performance).astype('int')\n",
    "df['status'] = nyse_performance\n",
    "df.loc[nasdaq_begin_index:len(df),'status'] = nasdaq_performance\n",
    "df['status'] = df['status'].astype('int')\n",
    "df.dropna() \n",
    "df.head()"
   ]
  },
  {
   "cell_type": "markdown",
   "metadata": {},
   "source": [
    "### Train and Test Data Split using sklearn\n",
    "\n",
    "The function train_test_split uses a merge of Stratified K-fold and ShuffleSplit to split the data in train and test set. \n",
    "\n",
    "Specifically, stratified K-fold makes sure there is correct representation of both classes in all folds and thus in both sets. This implies that there is going to be balance in both sets regarding the representation of each class.\n",
    "\n",
    "Shuffle split simply creates a permutation of a set based on the random seed that is set.\n",
    "\n",
    "We could not generate a validation set as the total data set was only 1840 data points. Needing a good enough train set and a good representation for the test set, we felt (and verified) that a validation set would be redundant and would only harm the overall efficiency of the algorithms and the results."
   ]
  },
  {
   "cell_type": "code",
   "execution_count": 5,
   "metadata": {},
   "outputs": [],
   "source": [
    "X = df[['cash_ratio','return_to_equity','price_to_book',\n",
    "        'pe','short_interest_ratio','debt_to_equity','eps']]\n",
    "y = df['status']\n",
    "\n",
    "X_train, X_test, y_train, y_test = train_test_split(X, y, test_size=0.20, random_state=55, shuffle=True, stratify=y)\n"
   ]
  },
  {
   "cell_type": "markdown",
   "metadata": {},
   "source": [
    "## Exploratory Data Analysis\n",
    "\n",
    "The labelled data seems to slightly tilited to \"underperform\" based on the less than 0.5 mean for both train and test data sets. Features overall varies in a large range within individual stock's features and across. We have the following as features<br>\n",
    "Cash ratio $\\frac{cash \\ and \\ cash \\ equivalents }{total \\ asset}$. This measures the company's most liquid assets. There is a sweetspot as companies want to invest so it needs enough cash.<br>\n",
    "Price to book $\\frac{Market \\ capitalisation}{Book \\ Value}$. This measures the market value of the company compare to its book value(owned asset - liability). High ratio could mean the market is overvaluing the company.<br>\n",
    "Price to Earning $\\frac{share \\ price}{earning \\ per \\ share}$. Market price to company's earning, usually low means high growing potential.<br>\n",
    "Short interest ratio $\\frac{shares \\ which \\ have \\ been \\ shorted \\ or \\ unsold}{trading \\ volume}$. The amount that bets against the company. <br>\n",
    "Debt to Equity $\\frac{Total \\ Debt}{Book \\ Equity}$ The higher the ratio, the more the company is leveraged.<br>\n",
    "EPS earning per share. Earnings per shares outstanding.<br>"
   ]
  },
  {
   "cell_type": "markdown",
   "metadata": {},
   "source": [
    "Since the data is not sequential/ time-series, there is no need of forward chaining. However the release of the financial ratios might not matches the return (whether the stock return outperform/ underperform the market) info at the exact same date. It is very difficult to pinpoint a date where all price info and financial ratios are available. We accept the shortcoming and proceed. "
   ]
  },
  {
   "cell_type": "code",
   "execution_count": 6,
   "metadata": {
    "scrolled": true
   },
   "outputs": [
    {
     "data": {
      "text/html": [
       "<div>\n",
       "<style scoped>\n",
       "    .dataframe tbody tr th:only-of-type {\n",
       "        vertical-align: middle;\n",
       "    }\n",
       "\n",
       "    .dataframe tbody tr th {\n",
       "        vertical-align: top;\n",
       "    }\n",
       "\n",
       "    .dataframe thead th {\n",
       "        text-align: right;\n",
       "    }\n",
       "</style>\n",
       "<table border=\"1\" class=\"dataframe\">\n",
       "  <thead>\n",
       "    <tr style=\"text-align: right;\">\n",
       "      <th></th>\n",
       "      <th>cash_ratio</th>\n",
       "      <th>price_to_book</th>\n",
       "      <th>pe</th>\n",
       "      <th>short_interest_ratio</th>\n",
       "      <th>debt_to_equity</th>\n",
       "      <th>eps</th>\n",
       "    </tr>\n",
       "  </thead>\n",
       "  <tbody>\n",
       "    <tr>\n",
       "      <th>count</th>\n",
       "      <td>368.000000</td>\n",
       "      <td>368.000000</td>\n",
       "      <td>368.000000</td>\n",
       "      <td>368.000000</td>\n",
       "      <td>368.000000</td>\n",
       "      <td>368.000000</td>\n",
       "    </tr>\n",
       "    <tr>\n",
       "      <th>mean</th>\n",
       "      <td>1.028137</td>\n",
       "      <td>25.084688</td>\n",
       "      <td>41.346297</td>\n",
       "      <td>6.124573</td>\n",
       "      <td>284.298935</td>\n",
       "      <td>6.285068</td>\n",
       "    </tr>\n",
       "    <tr>\n",
       "      <th>std</th>\n",
       "      <td>2.272746</td>\n",
       "      <td>379.182554</td>\n",
       "      <td>94.352842</td>\n",
       "      <td>6.077265</td>\n",
       "      <td>2773.999106</td>\n",
       "      <td>99.890417</td>\n",
       "    </tr>\n",
       "    <tr>\n",
       "      <th>min</th>\n",
       "      <td>0.000200</td>\n",
       "      <td>0.073257</td>\n",
       "      <td>0.780000</td>\n",
       "      <td>0.056000</td>\n",
       "      <td>0.000000</td>\n",
       "      <td>-9.870000</td>\n",
       "    </tr>\n",
       "    <tr>\n",
       "      <th>25%</th>\n",
       "      <td>0.133225</td>\n",
       "      <td>1.555604</td>\n",
       "      <td>16.277900</td>\n",
       "      <td>2.368250</td>\n",
       "      <td>18.062250</td>\n",
       "      <td>0.150000</td>\n",
       "    </tr>\n",
       "    <tr>\n",
       "      <th>50%</th>\n",
       "      <td>0.442200</td>\n",
       "      <td>2.517129</td>\n",
       "      <td>22.119150</td>\n",
       "      <td>4.073500</td>\n",
       "      <td>66.506150</td>\n",
       "      <td>0.640000</td>\n",
       "    </tr>\n",
       "    <tr>\n",
       "      <th>75%</th>\n",
       "      <td>1.065575</td>\n",
       "      <td>4.336916</td>\n",
       "      <td>33.644325</td>\n",
       "      <td>7.517250</td>\n",
       "      <td>126.426300</td>\n",
       "      <td>1.495000</td>\n",
       "    </tr>\n",
       "    <tr>\n",
       "      <th>max</th>\n",
       "      <td>31.522900</td>\n",
       "      <td>7271.903912</td>\n",
       "      <td>1121.748500</td>\n",
       "      <td>43.332000</td>\n",
       "      <td>51000.000000</td>\n",
       "      <td>1916.706200</td>\n",
       "    </tr>\n",
       "  </tbody>\n",
       "</table>\n",
       "</div>"
      ],
      "text/plain": [
       "       cash_ratio  price_to_book           pe  short_interest_ratio  \\\n",
       "count  368.000000     368.000000   368.000000            368.000000   \n",
       "mean     1.028137      25.084688    41.346297              6.124573   \n",
       "std      2.272746     379.182554    94.352842              6.077265   \n",
       "min      0.000200       0.073257     0.780000              0.056000   \n",
       "25%      0.133225       1.555604    16.277900              2.368250   \n",
       "50%      0.442200       2.517129    22.119150              4.073500   \n",
       "75%      1.065575       4.336916    33.644325              7.517250   \n",
       "max     31.522900    7271.903912  1121.748500             43.332000   \n",
       "\n",
       "       debt_to_equity          eps  \n",
       "count      368.000000   368.000000  \n",
       "mean       284.298935     6.285068  \n",
       "std       2773.999106    99.890417  \n",
       "min          0.000000    -9.870000  \n",
       "25%         18.062250     0.150000  \n",
       "50%         66.506150     0.640000  \n",
       "75%        126.426300     1.495000  \n",
       "max      51000.000000  1916.706200  "
      ]
     },
     "execution_count": 6,
     "metadata": {},
     "output_type": "execute_result"
    }
   ],
   "source": [
    "X_test.describe()"
   ]
  },
  {
   "cell_type": "code",
   "execution_count": 7,
   "metadata": {},
   "outputs": [
    {
     "data": {
      "text/html": [
       "<div>\n",
       "<style scoped>\n",
       "    .dataframe tbody tr th:only-of-type {\n",
       "        vertical-align: middle;\n",
       "    }\n",
       "\n",
       "    .dataframe tbody tr th {\n",
       "        vertical-align: top;\n",
       "    }\n",
       "\n",
       "    .dataframe thead th {\n",
       "        text-align: right;\n",
       "    }\n",
       "</style>\n",
       "<table border=\"1\" class=\"dataframe\">\n",
       "  <thead>\n",
       "    <tr style=\"text-align: right;\">\n",
       "      <th></th>\n",
       "      <th>cash_ratio</th>\n",
       "      <th>price_to_book</th>\n",
       "      <th>pe</th>\n",
       "      <th>short_interest_ratio</th>\n",
       "      <th>debt_to_equity</th>\n",
       "      <th>eps</th>\n",
       "    </tr>\n",
       "  </thead>\n",
       "  <tbody>\n",
       "    <tr>\n",
       "      <th>count</th>\n",
       "      <td>1472.000000</td>\n",
       "      <td>1472.000000</td>\n",
       "      <td>1.472000e+03</td>\n",
       "      <td>1472.000000</td>\n",
       "      <td>1472.000000</td>\n",
       "      <td>1472.000000</td>\n",
       "    </tr>\n",
       "    <tr>\n",
       "      <th>mean</th>\n",
       "      <td>1.225592</td>\n",
       "      <td>5.007646</td>\n",
       "      <td>1.878540e+03</td>\n",
       "      <td>6.234643</td>\n",
       "      <td>119.072600</td>\n",
       "      <td>1.240309</td>\n",
       "    </tr>\n",
       "    <tr>\n",
       "      <th>std</th>\n",
       "      <td>3.397330</td>\n",
       "      <td>24.835289</td>\n",
       "      <td>6.981861e+04</td>\n",
       "      <td>6.487965</td>\n",
       "      <td>413.624558</td>\n",
       "      <td>5.456003</td>\n",
       "    </tr>\n",
       "    <tr>\n",
       "      <th>min</th>\n",
       "      <td>0.000000</td>\n",
       "      <td>0.003900</td>\n",
       "      <td>6.000000e-04</td>\n",
       "      <td>0.042000</td>\n",
       "      <td>0.000000</td>\n",
       "      <td>-125.700000</td>\n",
       "    </tr>\n",
       "    <tr>\n",
       "      <th>25%</th>\n",
       "      <td>0.150900</td>\n",
       "      <td>1.616033</td>\n",
       "      <td>1.685785e+01</td>\n",
       "      <td>2.447000</td>\n",
       "      <td>16.321900</td>\n",
       "      <td>0.140000</td>\n",
       "    </tr>\n",
       "    <tr>\n",
       "      <th>50%</th>\n",
       "      <td>0.455450</td>\n",
       "      <td>2.543800</td>\n",
       "      <td>2.334905e+01</td>\n",
       "      <td>4.273500</td>\n",
       "      <td>59.004850</td>\n",
       "      <td>0.610000</td>\n",
       "    </tr>\n",
       "    <tr>\n",
       "      <th>75%</th>\n",
       "      <td>1.163725</td>\n",
       "      <td>4.327185</td>\n",
       "      <td>3.742260e+01</td>\n",
       "      <td>8.308000</td>\n",
       "      <td>119.859325</td>\n",
       "      <td>1.510000</td>\n",
       "    </tr>\n",
       "    <tr>\n",
       "      <th>max</th>\n",
       "      <td>66.235500</td>\n",
       "      <td>826.661655</td>\n",
       "      <td>2.678750e+06</td>\n",
       "      <td>108.744000</td>\n",
       "      <td>13352.430000</td>\n",
       "      <td>81.360000</td>\n",
       "    </tr>\n",
       "  </tbody>\n",
       "</table>\n",
       "</div>"
      ],
      "text/plain": [
       "        cash_ratio  price_to_book            pe  short_interest_ratio  \\\n",
       "count  1472.000000    1472.000000  1.472000e+03           1472.000000   \n",
       "mean      1.225592       5.007646  1.878540e+03              6.234643   \n",
       "std       3.397330      24.835289  6.981861e+04              6.487965   \n",
       "min       0.000000       0.003900  6.000000e-04              0.042000   \n",
       "25%       0.150900       1.616033  1.685785e+01              2.447000   \n",
       "50%       0.455450       2.543800  2.334905e+01              4.273500   \n",
       "75%       1.163725       4.327185  3.742260e+01              8.308000   \n",
       "max      66.235500     826.661655  2.678750e+06            108.744000   \n",
       "\n",
       "       debt_to_equity          eps  \n",
       "count     1472.000000  1472.000000  \n",
       "mean       119.072600     1.240309  \n",
       "std        413.624558     5.456003  \n",
       "min          0.000000  -125.700000  \n",
       "25%         16.321900     0.140000  \n",
       "50%         59.004850     0.610000  \n",
       "75%        119.859325     1.510000  \n",
       "max      13352.430000    81.360000  "
      ]
     },
     "execution_count": 7,
     "metadata": {},
     "output_type": "execute_result"
    }
   ],
   "source": [
    "X_train.describe()"
   ]
  },
  {
   "cell_type": "code",
   "execution_count": 8,
   "metadata": {},
   "outputs": [
    {
     "data": {
      "text/plain": [
       "count    1472.000000\n",
       "mean        0.417120\n",
       "std         0.493251\n",
       "min         0.000000\n",
       "25%         0.000000\n",
       "50%         0.000000\n",
       "75%         1.000000\n",
       "max         1.000000\n",
       "Name: status, dtype: float64"
      ]
     },
     "execution_count": 8,
     "metadata": {},
     "output_type": "execute_result"
    }
   ],
   "source": [
    "y_train.describe()"
   ]
  },
  {
   "cell_type": "code",
   "execution_count": 9,
   "metadata": {},
   "outputs": [
    {
     "data": {
      "text/plain": [
       "count    368.000000\n",
       "mean       0.415761\n",
       "std        0.493524\n",
       "min        0.000000\n",
       "25%        0.000000\n",
       "50%        0.000000\n",
       "75%        1.000000\n",
       "max        1.000000\n",
       "Name: status, dtype: float64"
      ]
     },
     "execution_count": 9,
     "metadata": {},
     "output_type": "execute_result"
    }
   ],
   "source": [
    "y_test.describe()"
   ]
  },
  {
   "cell_type": "markdown",
   "metadata": {},
   "source": [
    "## Performance Metrics\n",
    "Assuming we are \"the experts\" of a long only fund. We would like to minimise our number of bad choices and maximise our number of good choices, \"False Positive\" and \"True Positive\" (since we don't short underperforming stocks). We originally thought to use precision as our performance metric. \n",
    "\n",
    "$Precision = \\frac{True \\ Positive}{True  \\ Positive \\ + \\ False \\ Positive}$\n",
    "\n",
    "However, this leads us to models which are strictly predict negative(underperform) with only one positive(overpeform). We opt for the F1 score by considering both the precision and recall. They are defined as:\n",
    "\n",
    "$Recall = \\frac{True \\ Positive}{True  \\ Positive \\ + \\ False \\ Negative}$\n",
    "\n",
    "$F_1 = 2 \\frac{Precision \\ \\cdot \\ Recall }{Precision + Recall }$"
   ]
  },
  {
   "cell_type": "code",
   "execution_count": 10,
   "metadata": {},
   "outputs": [],
   "source": [
    "def F1_score(confusion_matrix):\n",
    "    v = np.array(confusion_matrix)\n",
    "    TN, FP, FN, TP = v.flatten()\n",
    "    prec = TP/ (TP + FP)\n",
    "    recall = TP/ (TP + FN)\n",
    "    F1 = 2*(prec*recall)/(prec+recall)\n",
    "    return F1"
   ]
  },
  {
   "cell_type": "markdown",
   "metadata": {},
   "source": [
    "In addition, we calculate the confusion matrix for each model:  \n",
    "    $ \\ A  = \\begin{pmatrix} \n",
    "True \\ Negative & False \\ Positive \\\\\n",
    "False  \\ Negative & True \\ Positive\n",
    "\\end{pmatrix}$"
   ]
  },
  {
   "cell_type": "code",
   "execution_count": 11,
   "metadata": {},
   "outputs": [],
   "source": [
    "def confusion_matrix_for_reg(predict, real):\n",
    "    \n",
    "    ## when running regression, we expect the predict performance would not consists only 1 or 0. \n",
    "    ## We round the predicted performance to the first decimal\n",
    "    predict = np.array(np.round(predict))\n",
    "\n",
    "    \n",
    "    ## Since the underlying model is a regression, we also limit the prediction between 0 and 1\n",
    "    predict = predict.clip(min=0, max=1)\n",
    "    \n",
    "    real = np.array(real)\n",
    "\n",
    "\n",
    "    ## use AND gate to check for TP\n",
    "    TP = np.sum(np.logical_and(predict, real))\n",
    "    ## FP = sum of all 1s in predict - TP  \n",
    "    FP = np.sum(predict ==1) - TP\n",
    "\n",
    "\n",
    "    ## first flip predict and real 1 and 0s, and use the same AND gate to check for TN\n",
    "    TN = np.sum(np.logical_and(np.logical_not(predict), np.logical_not(real)))\n",
    "    FN = np.sum(predict ==0) - TN\n",
    "\n",
    "\n",
    "\n",
    "    conf_matrix = [[TN, FP], [FN, TP]]\n",
    "\n",
    "\n",
    "    return conf_matrix"
   ]
  },
  {
   "cell_type": "markdown",
   "metadata": {},
   "source": [
    "### Monkey stock picking\n",
    "We simulate the monkey stock picking by randomly choosing under or overperform for each stock. This is our first naive method as stocks are simply picked by random, diregarding their fundamental financial ratios.\n"
   ]
  },
  {
   "cell_type": "code",
   "execution_count": 12,
   "metadata": {},
   "outputs": [],
   "source": [
    "np.random.seed(2018)\n",
    "y_train_from_random = np.random.uniform(1,0,len(y_train))\n",
    "\n",
    "y_test_from_random = np.random.uniform(1,0,len(y_test))"
   ]
  },
  {
   "cell_type": "markdown",
   "metadata": {},
   "source": [
    "### OLS regression \n",
    "\n",
    "Regression analysis helps one understand how the typical value of the dependent variable (or 'criterion variable') changes when any one of the independent variables is varied, while the other independent variables are held fixed. \n",
    "\n",
    "One of the textbook methods of fundamental analysis is an OLS regression(fundamental model) to model stock performance. OLS can be seen as our second naive method as we assume there the relationships between features and the stock performance are linear. The loss function to be minimised is\n",
    "\n",
    "$arg \\ min_{\\beta} ||y - X  \\ \\beta \\ ||_{2}^2$"
   ]
  },
  {
   "cell_type": "markdown",
   "metadata": {},
   "source": [
    "y is the labelled data, 1 and 0 representing performance in our case. X represents the matrix of features with $\\beta$ as the regression coefficients. The loss function of OLS represents the sum of squared errors/ residuals. "
   ]
  },
  {
   "cell_type": "markdown",
   "metadata": {},
   "source": [
    "The first model is fitted with the train data set to predict train performance. The second model is first fitted with validation data set and used to predict the test performance. "
   ]
  },
  {
   "cell_type": "markdown",
   "metadata": {},
   "source": [
    "## Normalising Data\n",
    "We will normalise the data before fitting the model. It is essential to normalise the data especially for penalised regression as the regressions are non-invariant. We would not want feature which varies a lot carry more weight than those which don't. "
   ]
  },
  {
   "cell_type": "code",
   "execution_count": 13,
   "metadata": {},
   "outputs": [],
   "source": [
    "def model_OLS(data_X_train, data_y_train, data_X_test):\n",
    "    # can change with or without intercept/ normalize\n",
    "    linreg = linear_model.LinearRegression(fit_intercept=True, normalize=True)  \n",
    "    linreg.fit(data_X_train, data_y_train)\n",
    "    linreg.get_params()\n",
    "    y_train_from_OLS = linreg.predict(data_X_train)\n",
    "    y_test_from_OLS =  linreg.predict(data_X_test)\n",
    "    \n",
    "    return y_train_from_OLS, y_test_from_OLS"
   ]
  },
  {
   "cell_type": "markdown",
   "metadata": {},
   "source": [
    "### LASSO regression\n",
    "The LASSO regression is a penalised regression where \n",
    "\n",
    "$arg \\ min_{\\beta} ||y - X  (\\beta) \\ ||_{2}^2 + \\lambda \\ || \\beta ||_1$\n",
    "\n",
    "is the loss function to be minimised. The first term is to reduce bias and the second term is to reduce variance. $\\lambda$ is the penalised coefficient for increased complexity. The larger the $\\lambda$, the heavier the penality to increase the model to a polynomial. "
   ]
  },
  {
   "cell_type": "code",
   "execution_count": 14,
   "metadata": {},
   "outputs": [],
   "source": [
    "def model_Lassi(data_X_train, data_y_train, a):\n",
    "    Lassi = Lasso(alpha=a, tol=1e-5, normalize=True)\n",
    "    Lassi.fit(data_X_train, data_y_train)\n",
    "    \n",
    "    y_train_from_LASSO = Lassi.predict(data_X_train)\n",
    "\n",
    "    return y_train_from_LASSO"
   ]
  },
  {
   "cell_type": "markdown",
   "metadata": {},
   "source": [
    "### Ridge regression\n",
    "\n",
    "The Ridge regression is a penalised regression where \n",
    "\n",
    "$arg \\ min_{\\beta} ||y - X  ( \\beta ) \\ ||_{2}^2 + \\lambda \\ || \\beta ||^2_{2}$\n",
    "\n",
    "is to be minimised. The difference between LASSO and Ridge is the penality term for increasing complexity is squared instead of absoluted in Ridge. LASSO's regularisation is L1 instead of L2 regularisation in Ridge. This allows LASSO to shrinks the irrelevant features to zero. "
   ]
  },
  {
   "cell_type": "code",
   "execution_count": 15,
   "metadata": {},
   "outputs": [],
   "source": [
    "def model_Rachel(data_X_train, data_y_train, a):\n",
    "    Rachel = Ridge(alpha=a, tol=1e-5, normalize=True)\n",
    "    Rachel.fit(data_X_train, data_y_train)\n",
    "    y_train_from_Ridge = Rachel.predict(data_X_train)\n",
    "\n",
    "    return y_train_from_Ridge"
   ]
  },
  {
   "cell_type": "markdown",
   "metadata": {},
   "source": [
    "### Run OLS regression"
   ]
  },
  {
   "cell_type": "code",
   "execution_count": 16,
   "metadata": {},
   "outputs": [],
   "source": [
    "y_train_from_OLS, y_test_from_OLS = model_OLS(X_train, y_train, X_test)\n",
    "\n",
    "conf_matrix_train_from_OLS = confusion_matrix_for_reg(y_train_from_OLS, y_train)\n",
    "\n",
    "F1_score_train_from_OLS = F1_score(conf_matrix_train_from_OLS)\n",
    "\n",
    "conf_matrix_test_from_OLS = confusion_matrix_for_reg(y_test_from_OLS, y_test)\n",
    "\n",
    "F1_score_test_from_OLS = F1_score(conf_matrix_test_from_OLS)"
   ]
  },
  {
   "cell_type": "markdown",
   "metadata": {},
   "source": [
    "### Optimising lambda for the penalised regression models\n",
    "The amount of penality with increased compexity is adjusted by $\\lambda$. The optimal $\\lambda$ is chose based on the the F1 score of the model fitted with the training set. The F1 score is based on precision and recall, which are obtained from the confusion matrix. "
   ]
  },
  {
   "cell_type": "code",
   "execution_count": 17,
   "metadata": {},
   "outputs": [
    {
     "name": "stderr",
     "output_type": "stream",
     "text": [
      "/Users/King/anaconda3/lib/python3.6/site-packages/ipykernel_launcher.py:3: UserWarning: With alpha=0, this algorithm does not converge well. You are advised to use the LinearRegression estimator\n",
      "  This is separate from the ipykernel package so we can avoid doing imports until\n",
      "/Users/King/anaconda3/lib/python3.6/site-packages/sklearn/linear_model/coordinate_descent.py:477: UserWarning: Coordinate descent with no regularization may lead to unexpected results and is discouraged.\n",
      "  positive)\n",
      "/Users/King/anaconda3/lib/python3.6/site-packages/sklearn/linear_model/coordinate_descent.py:491: ConvergenceWarning: Objective did not converge. You might want to increase the number of iterations. Fitting data with very small alpha may cause precision problems.\n",
      "  ConvergenceWarning)\n",
      "/Users/King/anaconda3/lib/python3.6/site-packages/ipykernel_launcher.py:4: RuntimeWarning: invalid value encountered in long_scalars\n",
      "  after removing the cwd from sys.path.\n"
     ]
    }
   ],
   "source": [
    "## TODO Optimizing LASSO and Ridge Lambda\n",
    "\n",
    "## initialising\n",
    "\n",
    "# range of lambda we are testing\n",
    "x_axis_interval = np.arange(0,1, 1e-3)\n",
    "\n",
    "# lists of F1 scores\n",
    "\n",
    "F1_train_LASSO =[]\n",
    "F1_train_Ridge =[]\n",
    "\n",
    "\n",
    "## finding optimal lambda for the least amount of False Positive\n",
    "for a in x_axis_interval:\n",
    "\n",
    "    y_train_from_LASSO = model_Lassi(X_train, y_train, a)\n",
    "    \n",
    "    ## Calculate the F1 score and append the score list\n",
    "    \n",
    "    F1_train_from_LASSO = F1_score(confusion_matrix_for_reg(y_train_from_LASSO, y_train))\n",
    "    F1_train_LASSO.append(F1_train_from_LASSO)\n",
    "    \n",
    "    y_train_from_Ridge = model_Rachel(X_train, y_train, a)\n",
    "    \n",
    "    F1_train_from_Ridge = F1_score(confusion_matrix_for_reg(y_train_from_Ridge, y_train))\n",
    "    F1_train_Ridge.append(F1_train_from_Ridge)\n"
   ]
  },
  {
   "cell_type": "markdown",
   "metadata": {},
   "source": [
    "### Precision across lambdas"
   ]
  },
  {
   "cell_type": "code",
   "execution_count": 18,
   "metadata": {},
   "outputs": [
    {
     "data": {
      "image/png": "[encoded data removed]",
      "text/plain": [
       "<matplotlib.figure.Figure at 0x106a5d898>"
      ]
     },
     "metadata": {},
     "output_type": "display_data"
    }
   ],
   "source": [
    "# Plotting the precisions across lambdas\n",
    "plt.scatter(x_axis_interval,F1_train_LASSO, label=\"LASSO train\", s=12)\n",
    "plt.scatter(x_axis_interval,F1_train_Ridge, label=\"Ridge train\", s=8)\n",
    "\n",
    "plt.xlabel('tuning parameter lambda')\n",
    "plt.ylabel('F1 score of train data fitting')\n",
    "plt.legend()\n",
    "plt.show()"
   ]
  },
  {
   "cell_type": "markdown",
   "metadata": {
    "collapsed": true
   },
   "source": [
    "The reason behind precision of 1 for Ridge train is there was only one true positiive with no false positve. This is misleading as we compensating with lots of False negative. "
   ]
  },
  {
   "cell_type": "markdown",
   "metadata": {},
   "source": [
    "### Optimal model with optimal lambda for predicting from test data set\n",
    "We chose the optimal $\\lambda$ according to the precisison of the model. We retrain the model with the validation data set and the optimal $\\lambda$ to predict using test data."
   ]
  },
  {
   "cell_type": "code",
   "execution_count": 19,
   "metadata": {},
   "outputs": [
    {
     "name": "stderr",
     "output_type": "stream",
     "text": [
      "/Users/King/anaconda3/lib/python3.6/site-packages/ipykernel_launcher.py:11: UserWarning: With alpha=0, this algorithm does not converge well. You are advised to use the LinearRegression estimator\n",
      "  # This is added back by InteractiveShellApp.init_path()\n",
      "/Users/King/anaconda3/lib/python3.6/site-packages/sklearn/linear_model/coordinate_descent.py:477: UserWarning: Coordinate descent with no regularization may lead to unexpected results and is discouraged.\n",
      "  positive)\n",
      "/Users/King/anaconda3/lib/python3.6/site-packages/sklearn/linear_model/coordinate_descent.py:491: ConvergenceWarning: Objective did not converge. You might want to increase the number of iterations. Fitting data with very small alpha may cause precision problems.\n",
      "  ConvergenceWarning)\n"
     ]
    }
   ],
   "source": [
    "a_range = x_axis_interval\n",
    "\n",
    "## Only optimize for minimum FP, long only fund\n",
    "F1_train_from_LASSO = np.array(F1_train_from_LASSO)\n",
    "F1_train_from_Ridge = np.array(F1_train_from_Ridge)\n",
    "opt_lambda_LASSO = a_range[np.argmax(F1_train_from_LASSO)]\n",
    "opt_lambda_Ridge = a_range[np.argmax(F1_train_from_Ridge)]\n",
    "\n",
    "## predicting test data set with optimal lambda/ alpha, returning confusion matrix\n",
    "Lassi_opt = Lasso(alpha=opt_lambda_LASSO, tol=1e-5)\n",
    "Lassi_opt.fit(X_train, y_train)\n",
    "y_test_from_Lassi = Lassi_opt.predict(X_test)\n",
    "\n",
    "F1_test_from_Lassi = F1_score(confusion_matrix_for_reg(y_test_from_Lassi,y_test))\n",
    "\n",
    "\n",
    "Rachel_opt = Ridge(alpha=opt_lambda_Ridge, tol=1e-5)\n",
    "Rachel_opt.fit(X_train, y_train)\n",
    "y_test_from_Rachel = Rachel_opt.predict(X_test)\n",
    "\n",
    "F1_test_from_Rachel = F1_score(confusion_matrix_for_reg(y_test_from_Rachel, y_test))\n"
   ]
  },
  {
   "cell_type": "code",
   "execution_count": 20,
   "metadata": {},
   "outputs": [
    {
     "name": "stdout",
     "output_type": "stream",
     "text": [
      "optimal lambda/ tuning parameters for LASSO: 0.0 \n",
      "optimal lambda/ tuning parameters for Ridge: 0.0\n"
     ]
    }
   ],
   "source": [
    "print(\"optimal lambda/ tuning parameters for LASSO:\", opt_lambda_LASSO,\"\\noptimal lambda/ tuning parameters for Ridge:\", opt_lambda_Ridge)\n",
    "## TODO Performance metric, calculating F1 score\n",
    "## first get F1 score of randomly picking\n",
    "\n",
    "F1_train_from_random = F1_score(confusion_matrix_for_reg(y_train_from_random, y_train))\n",
    "F1_test_from_random = F1_score(confusion_matrix_for_reg(y_test_from_random, y_test))\n",
    "\n",
    "\n",
    "\n",
    "\n",
    "F1_score_list = [F1_train_from_random, F1_test_from_random,\n",
    "                    F1_score_train_from_OLS, F1_score_test_from_OLS,\n",
    "                    F1_test_from_Lassi, F1_test_from_Rachel]\n",
    "    \n",
    "    \n",
    "    \n",
    "name_label = [\"train_from_random\", \"test_from_random\",\n",
    "                    \"train_from_OLS\", \"test_from_OLS\",\n",
    "                    \"test_LASSO\", \"test_Ridge\"]\n",
    "\n",
    "test_F1 = pd.DataFrame([F1_score_list], columns=name_label)\n",
    "# test_precision.set_index(\"Precision\")\n",
    "\n",
    "\n"
   ]
  },
  {
   "cell_type": "markdown",
   "metadata": {},
   "source": [
    "## Regression f1 Results"
   ]
  },
  {
   "cell_type": "code",
   "execution_count": 21,
   "metadata": {},
   "outputs": [
    {
     "data": {
      "text/html": [
       "<div>\n",
       "<style scoped>\n",
       "    .dataframe tbody tr th:only-of-type {\n",
       "        vertical-align: middle;\n",
       "    }\n",
       "\n",
       "    .dataframe tbody tr th {\n",
       "        vertical-align: top;\n",
       "    }\n",
       "\n",
       "    .dataframe thead th {\n",
       "        text-align: right;\n",
       "    }\n",
       "</style>\n",
       "<table border=\"1\" class=\"dataframe\">\n",
       "  <thead>\n",
       "    <tr style=\"text-align: right;\">\n",
       "      <th></th>\n",
       "      <th>train_from_random</th>\n",
       "      <th>test_from_random</th>\n",
       "      <th>train_from_OLS</th>\n",
       "      <th>test_from_OLS</th>\n",
       "      <th>test_LASSO</th>\n",
       "      <th>test_Ridge</th>\n",
       "    </tr>\n",
       "  </thead>\n",
       "  <tbody>\n",
       "    <tr>\n",
       "      <th>0</th>\n",
       "      <td>0.458333</td>\n",
       "      <td>0.481159</td>\n",
       "      <td>0.031546</td>\n",
       "      <td>0.084848</td>\n",
       "      <td>0.084848</td>\n",
       "      <td>0.084848</td>\n",
       "    </tr>\n",
       "  </tbody>\n",
       "</table>\n",
       "</div>"
      ],
      "text/plain": [
       "   train_from_random  test_from_random  train_from_OLS  test_from_OLS  \\\n",
       "0           0.458333          0.481159        0.031546       0.084848   \n",
       "\n",
       "   test_LASSO  test_Ridge  \n",
       "0    0.084848    0.084848  "
      ]
     },
     "execution_count": 21,
     "metadata": {},
     "output_type": "execute_result"
    }
   ],
   "source": [
    "test_F1"
   ]
  },
  {
   "cell_type": "markdown",
   "metadata": {
    "collapsed": true
   },
   "source": [
    "It seems the optimal lambda is exactly 0 for LASSO and almost 0 for Ridge regression, converging back to an OLS regression. Indicating there is no advantage to increase the model complexity."
   ]
  },
  {
   "cell_type": "markdown",
   "metadata": {},
   "source": [
    "## Cross validation and Ridge Classifier for further improvement\n",
    "\n",
    "We also did a k fold cross validation of the three regression as we feel a single split of training and testing data does not represent the data entirely. K fold cross validation works by randomly assigning data into bins evenly and iteratively select one as the test set, the rest as the training set. This is coded as a python script, \"stock_pred_kfold.py\" due to the massive loop. The F1 results are presented below"
   ]
  },
  {
   "cell_type": "code",
   "execution_count": 22,
   "metadata": {},
   "outputs": [
    {
     "data": {
      "text/html": [
       "<div>\n",
       "<style scoped>\n",
       "    .dataframe tbody tr th:only-of-type {\n",
       "        vertical-align: middle;\n",
       "    }\n",
       "\n",
       "    .dataframe tbody tr th {\n",
       "        vertical-align: top;\n",
       "    }\n",
       "\n",
       "    .dataframe thead th {\n",
       "        text-align: right;\n",
       "    }\n",
       "</style>\n",
       "<table border=\"1\" class=\"dataframe\">\n",
       "  <thead>\n",
       "    <tr style=\"text-align: right;\">\n",
       "      <th></th>\n",
       "      <th>train_from_random</th>\n",
       "      <th>test_from_random</th>\n",
       "      <th>train_from_OLS</th>\n",
       "      <th>test_from_OLS</th>\n",
       "      <th>test_LASSO</th>\n",
       "      <th>test_Ridge</th>\n",
       "    </tr>\n",
       "  </thead>\n",
       "  <tbody>\n",
       "    <tr>\n",
       "      <th>0</th>\n",
       "      <td>0.448711</td>\n",
       "      <td>0.483346</td>\n",
       "      <td>0.009441</td>\n",
       "      <td>0.012534</td>\n",
       "      <td>0.012534</td>\n",
       "      <td>0.012534</td>\n",
       "    </tr>\n",
       "  </tbody>\n",
       "</table>\n",
       "</div>"
      ],
      "text/plain": [
       "   train_from_random  test_from_random  train_from_OLS  test_from_OLS  \\\n",
       "0           0.448711          0.483346        0.009441       0.012534   \n",
       "\n",
       "   test_LASSO  test_Ridge  \n",
       "0    0.012534    0.012534  "
      ]
     },
     "execution_count": 22,
     "metadata": {},
     "output_type": "execute_result"
    }
   ],
   "source": [
    "pd.DataFrame([[0.44871059, 0.48334576, 0.00944125, 0.01253388, 0.01253388, 0.01253388]], columns=name_label)"
   ]
  },
  {
   "cell_type": "markdown",
   "metadata": {},
   "source": [
    "When comparing the F1 scores across model's test prediction, all linear model performed terribly and lost to the monkey. We can conclude from the that regression might not be the best model to use, which is logical as this is a classification problem. Rounding to or limiting between 1 and 0 is not the best solution when interpreting the predictions from using regression model. "
   ]
  },
  {
   "cell_type": "markdown",
   "metadata": {},
   "source": [
    "# SVM: Support Vector Machine"
   ]
  },
  {
   "cell_type": "markdown",
   "metadata": {},
   "source": [
    "The SVM is a machine learning technique most often utilized for classification. The goal of the learning technique is to draw a hyperplane(in linear 2D SVM this would be a line) between data that is distinctly classified in different categories. The best choice will be the hyperplane that leaves the maximum margin from both classes. The goal of the svm algorithm is to maximize the separability between the data points and the hyperplane.\n",
    "<br><br>\n",
    "Any hyperplane can be written as $w \\cdot x - b = 0$, and having a binary classification of -1,1 yields the following 2 equations $w \\cdot x - b = -1$ and $w \\cdot x - b = 1$. Geometrically, the distance between these 2 lines (margin) is $\\frac{2}{||w||}$. The job of the classifier is to minimize this fraction with the constraints of correct classification. More concretely, the minimization that needs to take place is $\\min_{w}||w||^2$ with the constraint of $y_i(w^Tx_i+b) >= 1$\n",
    "<br><br>\n",
    "In general, there is a trade off between the margin and the number of mistakes on the data i.e. the points can be linearly separated but there is a narrow margin or the margin solution is better even though some constraints might be violated. As a result, slack variables can be introduced ($\\xi$), which would control the aforementioned effect. Thus we reach a \"soft\" margin solution where the optimization becomes $\\min_{w}||w||^2 + C\\sum_{i}^{N}\\xi_i$ subject to $y_i(w^Tx_i+b) >= 1-\\xi_i$, where C is a regularization parameter.\n",
    "<br><br>\n",
    "Rewriting the the constraint $y_i(w^Tx_i+b) >= 1-\\xi_i$ as $y_if(x_i)>=1-\\xi_i$ and with $\\xi_i>0$ we get $\\xi_i=max(0,1-y_if(x_i)$, which makes our problem an uncostrainted optimization over w of the form: $\\min_{w}||w||^2+C\\sum_{i}^{N}\\max(0,1-y_if(\\xi_i))$ with the second part of the equation being the loss function.\n",
    "<br><br>\n",
    "Our problem is perfect for an SVM as its main function is to classify companies as underperforming or overperforming. Minimizing the loss function would create a hyperplane that would distinguish between overperforming and underperforming companies. \n",
    "<br><br>\n",
    "In terms of hyperparameters, the svm has 2 main ones. The C and the gamma. Following https://www.csie.ntu.edu.tw/~cjlin/papers/guide/guide.pdf, we set the range of the hyperparameters accordingly. Finally, since it is hard to visualize what our dataset would look like, we added another hyperparameter which was the kernel of the svm. We excluded the polynomial kernel, as it took a very long time to train and fit the data.\n",
    "\n",
    "More specifically C controls the missclassification of the data. C, depending on its value would trade error penalty for stability.Gamma is mostly used for non-linear kernels. Usually high gamma leads to high bias and low variance.\n",
    "<br><br>\n",
    "The metrics that were used for the data are similar to the regressions.\n",
    "\n"
   ]
  },
  {
   "cell_type": "code",
   "execution_count": 22,
   "metadata": {},
   "outputs": [],
   "source": [
    "#variable to hold our hyper-parameter results.\n",
    "results = pd.DataFrame(columns=['C','gamma','algo','test_precision','test_recall','train_precision','train_recall'],index=range(1000000))\n",
    "\n",
    "df = df.dropna()\n",
    "df = df.reset_index(drop=True)\n",
    "\n",
    "## formatting the input and the expected output we get\n",
    "X = df[['cash_ratio','return_to_equity','price_to_book','pe','short_interest_ratio','debt_to_equity','eps']]\n",
    "y = df['status']"
   ]
  },
  {
   "cell_type": "markdown",
   "metadata": {},
   "source": [
    "The following functions are defined in order to help with the production of the outputs of the SVM. Product metrics produces the confusion metrics via the built-in function and the precision as well as the recall.\n",
    "\n",
    "The run model splits the dataset into train and validation set and trains the SVM model, as well as predicting using both the train and validation set. The function was created in order to use hyper-parametrization on the important variables."
   ]
  },
  {
   "cell_type": "code",
   "execution_count": 23,
   "metadata": {},
   "outputs": [],
   "source": [
    "def product_metrics(real, pred):\n",
    "    #print(\"Non 0 results \" + str(sum(pred != 0)) + \" ,0 results \" + str(sum(pred == 0)))\n",
    "    C = confusion_matrix(real, pred)\n",
    "    tn, fp, fn, tp = C[0, 0], C[0, 1], C[1, 0], C[1, 1];\n",
    "    try:\n",
    "        precision = float(tp) / float((tp + fp))\n",
    "    except(ZeroDivisionError):\n",
    "        precision = 0\n",
    "    try:\n",
    "        recall = float(tp) / float((tp + fn))\n",
    "    except(ZeroDivisionError):\n",
    "        recall = 0\n",
    "    #print(\"Precision \" + str(precision) + \" Recall \" + str(recall))\n",
    "    return precision,recall\n",
    "\n",
    "def run_model(C,gamma,algo):\n",
    "    X_train, X_test, y_train, y_test = train_test_split(X, y, test_size=0.20, random_state=12, shuffle=True, stratify=y)\n",
    "    clf = svm.SVC(kernel=algo,C=C,gamma=gamma)\n",
    "    clf.fit(X_train, y_train)\n",
    "\n",
    "    train_pred = clf.predict(X_train)\n",
    "    test_pred = clf.predict(X_test)\n",
    "\n",
    "    train_precision, train_recall = product_metrics(y_train, train_pred)\n",
    "    test_precision, test_recall = product_metrics(y_test, test_pred)\n",
    "\n",
    "    return C,gamma,algo,train_precision,train_recall,test_precision,test_recall\n"
   ]
  },
  {
   "cell_type": "markdown",
   "metadata": {},
   "source": [
    "This specific piece of code takes a long time to run which is why the results are saved in a csv. The results are going to be uploaded for further examination. To produce the content in results.csv uncomment the commented lines and comment the Cs and gammas lines."
   ]
  },
  {
   "cell_type": "code",
   "execution_count": null,
   "metadata": {},
   "outputs": [
    {
     "name": "stdout",
     "output_type": "stream",
     "text": [
      "C                         10\n",
      "gamma                    0.1\n",
      "algo                  linear\n",
      "test_precision      0.608108\n",
      "test_recall        0.0732899\n",
      "train_precision          0.5\n",
      "train_recall       0.0915033\n",
      "Name: 0, dtype: object\n",
      "C                         10\n",
      "gamma                    0.2\n",
      "algo                  linear\n",
      "test_precision      0.608108\n",
      "test_recall        0.0732899\n",
      "train_precision          0.5\n",
      "train_recall       0.0915033\n",
      "Name: 1, dtype: object\n",
      "C                         10\n",
      "gamma                    0.5\n",
      "algo                  linear\n",
      "test_precision      0.608108\n",
      "test_recall        0.0732899\n",
      "train_precision          0.5\n",
      "train_recall       0.0915033\n",
      "Name: 2, dtype: object\n"
     ]
    }
   ],
   "source": [
    "## WARNING: EVEN THE SHORT VERSION TAKES TIME TO COMPLETE\n",
    "#gammas = [2**x for x in range(-10,10,2)]\n",
    "#Cs = [2**x for x in range(-10,10,2)]\n",
    "Cs = [10,100,1000]\n",
    "gammas = [0.1,0.2,0.5]\n",
    "algos = ['linear','rbf','sigmoid']\n",
    "\n",
    "counter = 0\n",
    "for algo in algos:\n",
    "    for c in Cs:\n",
    "        for gamma in gammas:\n",
    "            results.iloc[counter] = run_model(c,gamma,algo)\n",
    "            print(results.iloc[counter])\n",
    "            counter = counter+1;\n",
    "\n",
    "#results.to_csv('./resources/results.csv', sep=',')"
   ]
  },
  {
   "cell_type": "markdown",
   "metadata": {},
   "source": [
    "Plotting hyper-parameterization variables."
   ]
  },
  {
   "cell_type": "code",
   "execution_count": 24,
   "metadata": {},
   "outputs": [
    {
     "name": "stderr",
     "output_type": "stream",
     "text": [
      "/anaconda3/lib/python3.6/site-packages/IPython/core/interactiveshell.py:2785: DtypeWarning: Columns (3) have mixed types. Specify dtype option on import or set low_memory=False.\n",
      "  interactivity=interactivity, compiler=compiler, result=result)\n",
      "/anaconda3/lib/python3.6/site-packages/ipykernel_launcher.py:7: SettingWithCopyWarning: \n",
      "A value is trying to be set on a copy of a slice from a DataFrame.\n",
      "Try using .loc[row_indexer,col_indexer] = value instead\n",
      "\n",
      "See the caveats in the documentation: http://pandas.pydata.org/pandas-docs/stable/indexing.html#indexing-view-versus-copy\n",
      "  import sys\n",
      "/anaconda3/lib/python3.6/site-packages/ipykernel_launcher.py:8: SettingWithCopyWarning: \n",
      "A value is trying to be set on a copy of a slice from a DataFrame.\n",
      "Try using .loc[row_indexer,col_indexer] = value instead\n",
      "\n",
      "See the caveats in the documentation: http://pandas.pydata.org/pandas-docs/stable/indexing.html#indexing-view-versus-copy\n",
      "  \n",
      "/anaconda3/lib/python3.6/site-packages/ipykernel_launcher.py:10: SettingWithCopyWarning: \n",
      "A value is trying to be set on a copy of a slice from a DataFrame.\n",
      "Try using .loc[row_indexer,col_indexer] = value instead\n",
      "\n",
      "See the caveats in the documentation: http://pandas.pydata.org/pandas-docs/stable/indexing.html#indexing-view-versus-copy\n",
      "  # Remove the CWD from sys.path while we load stuff.\n",
      "/anaconda3/lib/python3.6/site-packages/ipykernel_launcher.py:11: SettingWithCopyWarning: \n",
      "A value is trying to be set on a copy of a slice from a DataFrame.\n",
      "Try using .loc[row_indexer,col_indexer] = value instead\n",
      "\n",
      "See the caveats in the documentation: http://pandas.pydata.org/pandas-docs/stable/indexing.html#indexing-view-versus-copy\n",
      "  # This is added back by InteractiveShellApp.init_path()\n",
      "/anaconda3/lib/python3.6/site-packages/ipykernel_launcher.py:13: SettingWithCopyWarning: \n",
      "A value is trying to be set on a copy of a slice from a DataFrame.\n",
      "Try using .loc[row_indexer,col_indexer] = value instead\n",
      "\n",
      "See the caveats in the documentation: http://pandas.pydata.org/pandas-docs/stable/indexing.html#indexing-view-versus-copy\n",
      "  del sys.path[0]\n",
      "/anaconda3/lib/python3.6/site-packages/ipykernel_launcher.py:14: SettingWithCopyWarning: \n",
      "A value is trying to be set on a copy of a slice from a DataFrame.\n",
      "Try using .loc[row_indexer,col_indexer] = value instead\n",
      "\n",
      "See the caveats in the documentation: http://pandas.pydata.org/pandas-docs/stable/indexing.html#indexing-view-versus-copy\n",
      "  \n"
     ]
    },
    {
     "data": {
      "image/png": "[encoded data removed]",
      "text/plain": [
       "<Figure size 432x288 with 1 Axes>"
      ]
     },
     "metadata": {},
     "output_type": "display_data"
    },
    {
     "data": {
      "image/png": "[encoded data removed]",
      "text/plain": [
       "<Figure size 432x288 with 1 Axes>"
      ]
     },
     "metadata": {},
     "output_type": "display_data"
    },
    {
     "data": {
      "image/png": "[encoded data removed]",
      "text/plain": [
       "<Figure size 432x288 with 1 Axes>"
      ]
     },
     "metadata": {},
     "output_type": "display_data"
    }
   ],
   "source": [
    "results = pd.read_csv(\"./resources/results.csv\")\n",
    "\n",
    "linear = results.iloc[np.where(results['algo']=='linear')]\n",
    "rbf = results.iloc[np.where(results['algo']=='rbf')]\n",
    "sigmoid = results.iloc[np.where(results['algo']=='sigmoid')]\n",
    "\n",
    "linear['f1_train'] = 2*((linear['train_precision']*linear['train_recall'])/(linear['train_precision']+linear['train_recall']))\n",
    "linear['f1_test'] = 2*((linear['test_precision']*linear['test_recall'])/(linear['test_precision']+linear['test_recall']))\n",
    "\n",
    "rbf['f1_train'] = 2*((rbf['train_precision']*rbf['train_recall'])/(rbf['train_precision']+rbf['train_recall']))\n",
    "rbf['f1_test'] = 2*((rbf['test_precision']*rbf['test_recall'])/(rbf['test_precision']+rbf['test_recall']))\n",
    "\n",
    "sigmoid['f1_train'] = 2*((sigmoid['train_precision']*sigmoid['train_recall'])/(sigmoid['train_precision']+sigmoid['train_recall']))\n",
    "sigmoid['f1_test'] = 2*((sigmoid['test_precision']*sigmoid['test_recall'])/(sigmoid['test_precision']+sigmoid['test_recall']))\n",
    "\n",
    "mpl.rcParams['legend.fontsize'] = 10\n",
    "\n",
    "fig = plt.figure()\n",
    "ax = fig.gca(projection='3d')\n",
    "ax.scatter(linear['C'], linear['gamma'], linear['f1_train'], label='Train f1')\n",
    "ax.scatter(linear['C'], linear['gamma'], linear['f1_test'], label='Test f1')\n",
    "ax.legend()\n",
    "ax.set_title(\"Linear Kernel\")\n",
    "ax.set_xlabel('C')\n",
    "ax.set_ylabel('gamma')\n",
    "ax.set_zlabel('F1')\n",
    "\n",
    "fig1 = plt.figure()\n",
    "ax1 = fig1.gca(projection='3d')\n",
    "ax1.scatter(rbf['C'], rbf['gamma'], rbf['f1_train'], label='Train f1')\n",
    "ax1.scatter(rbf['C'], rbf['gamma'], rbf['f1_test'], label='Test f1')\n",
    "ax1.legend()\n",
    "ax1.set_title(\"Rbf Kernel\")\n",
    "ax1.set_xlabel('C')\n",
    "ax1.set_ylabel('gamma')\n",
    "ax1.set_zlabel('F1')\n",
    "\n",
    "fig2 = plt.figure()\n",
    "ax2 = fig2.gca(projection='3d')\n",
    "ax2.scatter(sigmoid['C'], sigmoid['gamma'], sigmoid['f1_train'], label='Train f1')\n",
    "ax2.scatter (sigmoid['C'], sigmoid['gamma'], sigmoid['f1_test'], label='Test f1')\n",
    "ax2.legend()\n",
    "ax2.set_title(\"Sigmoid Kernel\")\n",
    "ax2.set_xlabel('C')\n",
    "ax2.set_ylabel('gamma')\n",
    "ax2.set_zlabel('F1')\n",
    "\n",
    "plt.show()\n"
   ]
  },
  {
   "cell_type": "markdown",
   "metadata": {},
   "source": [
    "The best results for each kernel are demonstrated below:"
   ]
  },
  {
   "cell_type": "code",
   "execution_count": 25,
   "metadata": {},
   "outputs": [
    {
     "name": "stdout",
     "output_type": "stream",
     "text": [
      "BEST F1\n",
      "Linear------\n",
      "Unnamed: 0                  90\n",
      "C                          256\n",
      "gamma              0.000976562\n",
      "algo                    linear\n",
      "test_precision        0.537849\n",
      "test_recall            0.21987\n",
      "train_precision       0.464286\n",
      "train_recall          0.254902\n",
      "f1_train              0.329114\n",
      "f1_test               0.312139\n",
      "f1                    0.641253\n",
      "Name: 90, dtype: object\n",
      "Rbf------\n",
      "Unnamed: 0              172\n",
      "C                        16\n",
      "gamma              0.015625\n",
      "algo                    rbf\n",
      "test_precision     0.986992\n",
      "test_recall        0.988599\n",
      "train_precision    0.452381\n",
      "train_recall       0.372549\n",
      "f1_train           0.408602\n",
      "f1_test            0.987795\n",
      "f1                   1.3964\n",
      "Name: 172, dtype: object\n",
      "Sigmoid------\n",
      "Unnamed: 0                 260\n",
      "C                            4\n",
      "gamma              0.000976562\n",
      "algo                   sigmoid\n",
      "test_precision        0.439935\n",
      "test_recall           0.441368\n",
      "train_precision       0.507692\n",
      "train_recall          0.431373\n",
      "f1_train              0.466431\n",
      "f1_test                0.44065\n",
      "f1                    0.907082\n",
      "Name: 260, dtype: object\n"
     ]
    },
    {
     "name": "stderr",
     "output_type": "stream",
     "text": [
      "/anaconda3/lib/python3.6/site-packages/ipykernel_launcher.py:1: SettingWithCopyWarning: \n",
      "A value is trying to be set on a copy of a slice from a DataFrame.\n",
      "Try using .loc[row_indexer,col_indexer] = value instead\n",
      "\n",
      "See the caveats in the documentation: http://pandas.pydata.org/pandas-docs/stable/indexing.html#indexing-view-versus-copy\n",
      "  \"\"\"Entry point for launching an IPython kernel.\n",
      "/anaconda3/lib/python3.6/site-packages/ipykernel_launcher.py:2: SettingWithCopyWarning: \n",
      "A value is trying to be set on a copy of a slice from a DataFrame.\n",
      "Try using .loc[row_indexer,col_indexer] = value instead\n",
      "\n",
      "See the caveats in the documentation: http://pandas.pydata.org/pandas-docs/stable/indexing.html#indexing-view-versus-copy\n",
      "  \n",
      "/anaconda3/lib/python3.6/site-packages/ipykernel_launcher.py:3: SettingWithCopyWarning: \n",
      "A value is trying to be set on a copy of a slice from a DataFrame.\n",
      "Try using .loc[row_indexer,col_indexer] = value instead\n",
      "\n",
      "See the caveats in the documentation: http://pandas.pydata.org/pandas-docs/stable/indexing.html#indexing-view-versus-copy\n",
      "  This is separate from the ipykernel package so we can avoid doing imports until\n"
     ]
    }
   ],
   "source": [
    "linear['f1'] = linear['f1_train']+linear['f1_test']\n",
    "rbf['f1'] = rbf['f1_train']+rbf['f1_test']\n",
    "sigmoid['f1'] = sigmoid['f1_train']+sigmoid['f1_test']\n",
    "\n",
    "linear_best_f1 = linear.loc[linear['f1'].idxmax()]\n",
    "rbf_best_f1 = rbf.loc[rbf['f1'].idxmax()]\n",
    "sigmoid_best_f1 = sigmoid.loc[sigmoid['f1'].idxmax()]\n",
    "\n",
    "print(\"BEST F1\")\n",
    "print(\"Linear------\\n\" +str(linear_best_f1))\n",
    "print(\"Rbf------\\n\"+str(rbf_best_f1))\n",
    "print(\"Sigmoid------\\n\"+str(sigmoid_best_f1))"
   ]
  },
  {
   "cell_type": "markdown",
   "metadata": {},
   "source": [
    "It is clear that the rbf provides the best f1 overall score. This is not the case just for the best score out of the 3, but in general overall. It should be noted that the addition of the train and test f1 score is taken into account, as there exist f1 scores in the test set where the f1 score is 1, but with terrible test set f1 scores. In general, a model that predicts data in both sets is more desirable which is the reason behind the addition."
   ]
  },
  {
   "cell_type": "markdown",
   "metadata": {},
   "source": [
    "## Final conclusion"
   ]
  },
  {
   "cell_type": "markdown",
   "metadata": {},
   "source": [
    "In general, we found that regression methods do not yield great results when it comes to predicting the class. The penalized regressions(LASSO and Ridge) end up converging to a standard OLS regression, as the best models have lambda=0. As explained, this is to be expected. SVM, being a classifier, produces more meaningful results with the rbf kernel performing (in general) better than the other kernels. Via hyper-parameterization we find that the best hyper-parameters for the rbf kernel are C=16 and gamma = 0.015625. Exploring the most important features for the svm cannot be determined unfortunately, as the rbf does not produce any concrete coefficients.\n",
    "\n",
    "It should also be noted that in the regression, we did not add the f1 scores of the train and test set, as we did for the SVM. This was because the results were pretty abysmal so we felt that there would not be any benefit by doing this. Even if a better model was discovered, its performance would not be on par with the svm.\n",
    "\n",
    "The toughest problem we had to face in this project was the lack and the structure of data. Even using Bloomberg, we had trouble retrieving data without missing information, something which plagued our data set. Throughout this process, we discovered that even though understanding the theory and being able to apply it is very important, having the best data and the best representation of it is the most important part.\n",
    "\n",
    "As far as improvements go, adding more features would definitely benefit the result as the description of the companies would be much better and having more and reliable data would also add a lot of value.\n",
    "\n"
   ]
  },
  {
   "cell_type": "code",
   "execution_count": null,
   "metadata": {},
   "outputs": [],
   "source": []
  }
 ],
 "metadata": {
  "kernelspec": {
   "display_name": "Python 3",
   "language": "python",
   "name": "python3"
  },
  "language_info": {
   "codemirror_mode": {
    "name": "ipython",
    "version": 3
   },
   "file_extension": ".py",
   "mimetype": "text/x-python",
   "name": "python",
   "nbconvert_exporter": "python",
   "pygments_lexer": "ipython3",
   "version": "3.6.5"
  }
 },
 "nbformat": 4,
 "nbformat_minor": 2
}
